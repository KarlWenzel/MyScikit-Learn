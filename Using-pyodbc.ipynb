{
 "cells": [
  {
   "cell_type": "markdown",
   "metadata": {},
   "source": [
    "# Accessing databases with Python using pyodbc\n",
    "\n",
    "Before starting, make sure you have installed the `pyodbc` and `pandas` packages in your current environment.\n",
    "e.g.\n",
    "```\n",
    "conda install pandas, pyodbc\n",
    "```\n",
    "\n",
    "The [Github repo](https://github.com/mkleehammer/pyodbc) for the `pyodbc` package has a very nice wiki, which includes an excellent [getting started tutorial](https://github.com/mkleehammer/pyodbc/wiki/Getting-started)."
   ]
  },
  {
   "cell_type": "code",
   "execution_count": 1,
   "metadata": {},
   "outputs": [],
   "source": [
    "import pandas as pd\n",
    "import pyodbc\n",
    "\n",
    "# see # https://github.com/mkleehammer/pyodbc/wiki/Connecting-to-SQL-Server-from-Windows\n",
    "connection_string = \"DRIVER={SQL Server}; SERVER=localhost\\sqlexpress; DATABASE=Sandbox; Trusted_Connection=yes;\""
   ]
  },
  {
   "cell_type": "markdown",
   "metadata": {},
   "source": [
    "## Connecting to the database"
   ]
  },
  {
   "cell_type": "code",
   "execution_count": 2,
   "metadata": {},
   "outputs": [
    {
     "name": "stdout",
     "output_type": "stream",
     "text": [
      "Full row: ('Shirt 1', 'Red', 'Large')\n",
      "0th column: Shirt 1\n",
      "'Itemname' column: Shirt 1\n"
     ]
    }
   ],
   "source": [
    "# Method 1 - Don't use this\n",
    "\n",
    "conn = pyodbc.connect(connection_string)\n",
    "# ... do work\n",
    "conn.close()\n",
    "\n",
    "# Method 2 - Don't use this\n",
    "\n",
    "try:\n",
    "  conn = pyodbc.connect(connection_string)\n",
    "  # ... do work\n",
    "finally:\n",
    "  conn.close()\n",
    "\n",
    "# Method 3 - USE THIS\n",
    "\n",
    "with pyodbc.connect(connection_string) as conn:\n",
    "  # A cursor is a temporary work area created by system memory used to store and manipulate data\n",
    "  cursor = conn.cursor()\n",
    "  cursor.execute(\"SELECT [ItemName], [Color], [Size] FROM [Shirts]\")\n",
    "  row = cursor.fetchone()\n",
    "  # avoid danger - row may be `None` (which would crash if you try to access its columns )\n",
    "  if (row):\n",
    "    print(\"Full row:\", row)\n",
    "    print(\"0th column:\", row[0])\n",
    "    print(\"'Itemname' column:\", row.ItemName)"
   ]
  },
  {
   "cell_type": "markdown",
   "metadata": {},
   "source": [
    "## How to iterate across database records"
   ]
  },
  {
   "cell_type": "code",
   "execution_count": 3,
   "metadata": {},
   "outputs": [
    {
     "name": "stdout",
     "output_type": "stream",
     "text": [
      "('Shirt 1', 'Red', 'Large', 10)\n",
      "('Shirt 2', 'Blue', 'Small', 20)\n",
      "('Shirt 3', 'Red', 'Small', 15)\n",
      "\n",
      "\n",
      "('Shirt 1', 'Red', 'Large', 10)\n",
      "('Shirt 2', 'Blue', 'Small', 20)\n",
      "('Shirt 3', 'Red', 'Small', 15)\n"
     ]
    }
   ],
   "source": [
    "# Method 1 - infinite loop with a break (don't use this)\n",
    "\n",
    "with pyodbc.connect(connection_string) as conn:\n",
    "  cursor = conn.cursor()\n",
    "  cursor.execute(\"SELECT * FROM [Shirts]\")\n",
    "  while True:\n",
    "    row = cursor.fetchone()\n",
    "    if not row:\n",
    "      break\n",
    "    print(row)\n",
    "print(\"\\n\")\n",
    "    \n",
    "# Method 2 - use iterator\n",
    "\n",
    "with pyodbc.connect(connection_string) as conn:\n",
    "  cursor = conn.cursor()\n",
    "  for row in cursor.execute(\"SELECT * FROM [Shirts]\"):\n",
    "    print(row)"
   ]
  },
  {
   "cell_type": "markdown",
   "metadata": {},
   "source": [
    "## Filtering your queries, and how to use sql parameters"
   ]
  },
  {
   "cell_type": "code",
   "execution_count": 4,
   "metadata": {},
   "outputs": [
    {
     "name": "stdout",
     "output_type": "stream",
     "text": [
      "('Shirt 3', 'Red', 'Small', 15)\n",
      "\n",
      "\n",
      "('Shirt 3', 'Red', 'Small', 15)\n",
      "\n",
      "\n",
      "('Shirt 3', 'Red', 'Small', 15)\n"
     ]
    }
   ],
   "source": [
    "# Inline strings - Don't use (vulnerable to sql injection attacks, not optimized)\n",
    "with pyodbc.connect(connection_string) as conn:\n",
    "  cursor = conn.cursor()\n",
    "  for row in cursor.execute(\"SELECT * FROM [Shirts] WHERE [Color]='Red' AND [Cost]>10\"):\n",
    "    print(row)\n",
    "print(\"\\n\")\n",
    "\n",
    "# Parameterized\n",
    "with pyodbc.connect(connection_string) as conn:\n",
    "  cursor = conn.cursor()\n",
    "  for row in cursor.execute(\"SELECT * FROM [Shirts] WHERE [Color]=? AND [Cost]>?\", \"Red\", 10):\n",
    "    print(row)\n",
    "print(\"\\n\")\n",
    "\n",
    "# Parameterized with \"tuple unpacking\"\n",
    "sql = \"SELECT * FROM [Shirts] WHERE [Color]=? AND [Cost]>?\"\n",
    "my_params = (\"Red\", 10)\n",
    "with pyodbc.connect(connection_string) as conn:\n",
    "  cursor = conn.cursor()\n",
    "  for row in cursor.execute(sql, *my_params):\n",
    "    print(row)"
   ]
  },
  {
   "cell_type": "markdown",
   "metadata": {},
   "source": [
    "## Make a reusable function for printing the table"
   ]
  },
  {
   "cell_type": "code",
   "execution_count": 5,
   "metadata": {},
   "outputs": [
    {
     "name": "stdout",
     "output_type": "stream",
     "text": [
      "\n",
      "\n",
      "('Shirt 1', 'Red', 'Large', 10)\n",
      "('Shirt 2', 'Blue', 'Small', 20)\n",
      "('Shirt 3', 'Red', 'Small', 15)\n",
      "\n",
      "\n",
      "test\n",
      "('Shirt 1', 'Red', 'Large', 10)\n",
      "('Shirt 2', 'Blue', 'Small', 20)\n",
      "('Shirt 3', 'Red', 'Small', 15)\n"
     ]
    }
   ],
   "source": [
    "def show_shirts(optional_message=None):\n",
    "  print(\"\\n\")\n",
    "  if (optional_message):\n",
    "    print(optional_message)    \n",
    "  with pyodbc.connect(connection_string) as conn:\n",
    "    cursor = conn.cursor()\n",
    "    for row in cursor.execute(\"SELECT * FROM [Shirts]\"):\n",
    "      print(row)\n",
    "      \n",
    "# Does it work?\n",
    "show_shirts()\n",
    "show_shirts(\"test\")"
   ]
  },
  {
   "cell_type": "markdown",
   "metadata": {},
   "source": [
    "## Inserting data"
   ]
  },
  {
   "cell_type": "code",
   "execution_count": 6,
   "metadata": {},
   "outputs": [
    {
     "name": "stdout",
     "output_type": "stream",
     "text": [
      "\n",
      "\n",
      "inserted 'Shirt X'\n",
      "('Shirt 1', 'Red', 'Large', 10)\n",
      "('Shirt 2', 'Blue', 'Small', 20)\n",
      "('Shirt 3', 'Red', 'Small', 15)\n",
      "('Shirt X', 'Green', 'Medium', 30)\n"
     ]
    }
   ],
   "source": [
    "with pyodbc.connect(connection_string) as conn:\n",
    "  cursor = conn.cursor()\n",
    "  sql = \"INSERT INTO [Shirts] ([ItemName], [Color], [Size], [Cost]) VALUES (?,?,?,?)\"\n",
    "  cursor.execute(sql, (\"Shirt X\", \"Green\", \"Medium\", 30))\n",
    "show_shirts(\"inserted 'Shirt X'\")"
   ]
  },
  {
   "cell_type": "markdown",
   "metadata": {},
   "source": [
    "## Updating data"
   ]
  },
  {
   "cell_type": "code",
   "execution_count": 7,
   "metadata": {},
   "outputs": [
    {
     "name": "stdout",
     "output_type": "stream",
     "text": [
      "\n",
      "\n",
      "updated 'Shirt X'\n",
      "('Shirt 1', 'Red', 'Large', 10)\n",
      "('Shirt 2', 'Blue', 'Small', 20)\n",
      "('Shirt 3', 'Red', 'Small', 15)\n",
      "('Shirt X', 'Green', 'Medium', 25)\n"
     ]
    }
   ],
   "source": [
    "with pyodbc.connect(connection_string) as conn:\n",
    "  cursor = conn.cursor()\n",
    "  cursor.execute(\"UPDATE [Shirts] SET [Cost]=? WHERE [ItemName]=?\", 25, \"Shirt X\")\n",
    "show_shirts(\"updated 'Shirt X'\")"
   ]
  },
  {
   "cell_type": "markdown",
   "metadata": {},
   "source": [
    "## Deleting data"
   ]
  },
  {
   "cell_type": "code",
   "execution_count": 8,
   "metadata": {},
   "outputs": [
    {
     "name": "stdout",
     "output_type": "stream",
     "text": [
      "\n",
      "\n",
      "deleted 'Shirt X'\n",
      "('Shirt 1', 'Red', 'Large', 10)\n",
      "('Shirt 2', 'Blue', 'Small', 20)\n",
      "('Shirt 3', 'Red', 'Small', 15)\n"
     ]
    }
   ],
   "source": [
    "with pyodbc.connect(connection_string) as conn:\n",
    "  cursor = conn.cursor()\n",
    "  cursor.execute(\"DELETE FROM [Shirts] WHERE [ItemName]=?\", \"Shirt X\")\n",
    "show_shirts(\"deleted 'Shirt X'\")"
   ]
  },
  {
   "cell_type": "markdown",
   "metadata": {},
   "source": [
    "## Reading data from database directly into a pandas DataFrame"
   ]
  },
  {
   "cell_type": "code",
   "execution_count": 9,
   "metadata": {},
   "outputs": [
    {
     "name": "stdout",
     "output_type": "stream",
     "text": [
      "\n",
      "   ItemName Color   Size  Cost\n",
      "0  Shirt 1   Red  Large    10\n",
      "1  Shirt 2  Blue  Small    20\n",
      "2  Shirt 3   Red  Small    15\n"
     ]
    }
   ],
   "source": [
    "df = {} # <-- want this to persist after the `with` block is out of scope\n",
    "with pyodbc.connect(connection_string) as conn:\n",
    "  df = pd.read_sql(\"SELECT * FROM [Shirts]\", conn)\n",
    "print(\"\\n\", df.head())"
   ]
  },
  {
   "cell_type": "code",
   "execution_count": 10,
   "metadata": {},
   "outputs": [
    {
     "name": "stdout",
     "output_type": "stream",
     "text": [
      "\n",
      "   ItemName Color   Size  Cost\n",
      "0  Shirt 1   Red  Large    10\n",
      "1  Shirt 2  Blue  Small    20\n",
      "2  Shirt 3   Red  Small    15\n"
     ]
    }
   ],
   "source": [
    "# Same thing, but this time as a function.  less akward and more reusable\n",
    "\n",
    "def get_df():\n",
    "  with pyodbc.connect(connection_string) as conn:\n",
    "    return pd.read_sql(\"SELECT * FROM [Shirts]\", conn)\n",
    "\n",
    "df = get_df()\n",
    "print(\"\\n\", df.head())"
   ]
  },
  {
   "cell_type": "code",
   "execution_count": null,
   "metadata": {},
   "outputs": [],
   "source": []
  }
 ],
 "metadata": {
  "kernelspec": {
   "display_name": "Python 3",
   "language": "python",
   "name": "python3"
  },
  "language_info": {
   "codemirror_mode": {
    "name": "ipython",
    "version": 3
   },
   "file_extension": ".py",
   "mimetype": "text/x-python",
   "name": "python",
   "nbconvert_exporter": "python",
   "pygments_lexer": "ipython3",
   "version": "3.6.5"
  }
 },
 "nbformat": 4,
 "nbformat_minor": 2
}
